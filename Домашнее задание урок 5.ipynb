{
 "cells": [
  {
   "cell_type": "code",
   "execution_count": 3,
   "id": "a02a5127",
   "metadata": {},
   "outputs": [],
   "source": [
    "%matplotlib inline\n",
    "import numpy as np\n",
    "import matplotlib.pyplot as plt\n",
    "import matplotlib.mlab as mlab\n",
    "import random\n"
   ]
  },
  {
   "cell_type": "code",
   "execution_count": 19,
   "id": "777b0356",
   "metadata": {},
   "outputs": [
    {
     "name": "stdout",
     "output_type": "stream",
     "text": [
      "[ 0.59063506  0.19234526  0.69130813  0.30535992 -0.05092655  0.31554163\n",
      " -0.28312779 -0.96374057  0.29172377  0.34168428]\n"
     ]
    },
    {
     "data": {
      "text/plain": [
       "Text(0.5, 1.0, 'Histogram')"
      ]
     },
     "execution_count": 19,
     "metadata": {},
     "output_type": "execute_result"
    },
    {
     "data": {
      "image/png": "[encoded data removed]",
      "text/plain": [
       "<Figure size 432x288 with 1 Axes>"
      ]
     },
     "metadata": {
      "needs_background": "light"
     },
     "output_type": "display_data"
    }
   ],
   "source": [
    "x=np.random.randn(10)\n",
    "sum (x)\n",
    "num_bins = 5\n",
    "n, bins, pathces = plt.hist(x, num_bins)\n",
    "plt.xlabel(\"x\")\n",
    "plt.ylabel(\"Propability\")\n",
    "plt.title(\"Histogram\")"
   ]
  },
  {
   "cell_type": "code",
   "execution_count": null,
   "id": "f5d81ede",
   "metadata": {},
   "outputs": [],
   "source": [
    "#P(A)+P(B) = 1 или 100%\n",
    "k, m = 0, 0\n",
    "n = 100\n",
    "for i in range(0,n):\n",
    "    x = random.randint(0,10)\n",
    "    if x<5:\n",
    "        k+=1\n",
    "    else:\n",
    "        m+=1\n",
    "sum = k+m\n",
    "print(sum, \"- процентное соотношение орла и решки из 100 попыток, всегда равно 1 или 100 процентам\")"
   ]
  },
  {
   "cell_type": "code",
   "execution_count": 16,
   "id": "130a65ed",
   "metadata": {},
   "outputs": [
    {
     "ename": "AttributeError",
     "evalue": "module 'matplotlib.mlab' has no attribute 'normpdf'",
     "output_type": "error",
     "traceback": [
      "\u001b[1;31m---------------------------------------------------------------------------\u001b[0m",
      "\u001b[1;31mAttributeError\u001b[0m                            Traceback (most recent call last)",
      "Input \u001b[1;32mIn [16]\u001b[0m, in \u001b[0;36m<cell line: 6>\u001b[1;34m()\u001b[0m\n\u001b[0;32m      4\u001b[0m num_bins \u001b[38;5;241m=\u001b[39m \u001b[38;5;241m20\u001b[39m \n\u001b[0;32m      5\u001b[0m n, bins, patches \u001b[38;5;241m=\u001b[39m plt\u001b[38;5;241m.\u001b[39mhist(x, num_bins, facecolor\u001b[38;5;241m=\u001b[39m\u001b[38;5;124m\"\u001b[39m\u001b[38;5;124mblue\u001b[39m\u001b[38;5;124m\"\u001b[39m, alpha\u001b[38;5;241m=\u001b[39m\u001b[38;5;241m0.5\u001b[39m)\n\u001b[1;32m----> 6\u001b[0m y \u001b[38;5;241m=\u001b[39m \u001b[43mmlab\u001b[49m\u001b[38;5;241;43m.\u001b[39;49m\u001b[43mnormpdf\u001b[49m(bins, mu, sigma)\n\u001b[0;32m      7\u001b[0m plt\u001b[38;5;241m.\u001b[39mplot(bins, y, \u001b[38;5;124m'\u001b[39m\u001b[38;5;124mr--\u001b[39m\u001b[38;5;124m'\u001b[39m)\n\u001b[0;32m      8\u001b[0m plt\u001b[38;5;241m.\u001b[39mxlabel(\u001b[38;5;124m'\u001b[39m\u001b[38;5;124mx\u001b[39m\u001b[38;5;124m'\u001b[39m)\n",
      "\u001b[1;31mAttributeError\u001b[0m: module 'matplotlib.mlab' has no attribute 'normpdf'"
     ]
    },
    {
     "data": {
      "image/png": "[encoded data removed]",
      "text/plain": [
       "<Figure size 432x288 with 1 Axes>"
      ]
     },
     "metadata": {
      "needs_background": "light"
     },
     "output_type": "display_data"
    }
   ],
   "source": [
    "num = int(input(\"Введите ставку от 0 до 36 \"))\n",
    "color = input(\"Введите цвет ставки, красный или чёрный, если ставите на ноль цвет вводить не нужно \")\n",
    "color1 = [\"красный\", \"чёрный\"]\n",
    "for i in range(0,1):\n",
    "    x = np.random.randint(0,37)\n",
    "    y = random.choice(color1)\n",
    "    if num>36:\n",
    "        print(\"Ошибка ставки\")\n",
    "        break\n",
    "    if x == num:\n",
    "         print (x, \"Вы угадали число!!!!\")\n",
    "    elif y == color:\n",
    "        print (x, y, \"Вы выиграли!!!!\")\n",
    "    else:\n",
    "        print (x, y, \"Вы проиграли\")"
   ]
  },
  {
   "cell_type": "code",
   "execution_count": 33,
   "id": "8d143fca",
   "metadata": {},
   "outputs": [
    {
     "name": "stdout",
     "output_type": "stream",
     "text": [
      "\n",
      "Количество выпадания орлов 36 и 34 решек из 70 попыток\n",
      "\n",
      "Количество выпадания орлов 42 и 43 решек из 85 попыток\n",
      "\n",
      "Количество выпадания орлов 45 и 55 решек из 100 попыток\n",
      "\n",
      "Количество выпадания орлов 61 и 54 решек из 115 попыток\n",
      "\n",
      "Вероятность выпадения 35 орлов при 70 попытках - 9.50255 %\n",
      "Вероятность выпадения 40 орлов при 70 попытках - 4.68814 %\n",
      "Вероятность выпадения 45 орлов при 70 попытках - 0.54682 %\n",
      "Вероятность выпадения 50 орлов при 70 попытках - 0.01371 %\n",
      "Вероятность выпадения 55 орлов при 70 попытках - 0.00006 %\n",
      "\n",
      "Вероятность выпадения 35 орлов при 85 попытках - 2.31711 %\n",
      "Вероятность выпадения 40 орлов при 85 попытках - 7.46099 %\n",
      "Вероятность выпадения 45 орлов при 85 попытках - 7.46099 %\n",
      "Вероятность выпадения 50 орлов при 85 попытках - 2.31711 %\n",
      "Вероятность выпадения 55 орлов при 85 попытках - 0.21623 %\n",
      "\n",
      "Вероятность выпадения 35 орлов при 100 попытках - 0.08639 %\n",
      "Вероятность выпадения 40 орлов при 100 попытках - 1.08439 %\n",
      "Вероятность выпадения 45 орлов при 100 попытках - 4.84743 %\n",
      "Вероятность выпадения 50 орлов при 100 попытках - 7.95892 %\n",
      "Вероятность выпадения 55 орлов при 100 попытках - 4.84743 %\n",
      "\n",
      "Вероятность выпадения 35 орлов при 115 попытках - 0.00095 %\n",
      "Вероятность выпадения 40 орлов при 115 попытках - 0.03479 %\n",
      "Вероятность выпадения 45 орлов при 115 попытках - 0.49144 %\n",
      "Вероятность выпадения 50 орлов при 115 попытках - 2.80728 %\n",
      "Вероятность выпадения 55 орлов при 115 попытках - 6.66553 %\n"
     ]
    }
   ],
   "source": [
    "import math\n",
    "for n in range (70, 130, 15):\n",
    "    print()\n",
    "    k, m = 0, 0\n",
    "    for i in range(0, n):\n",
    "        x = np.random.uniform(0, 10)\n",
    "        if x<5:\n",
    "            k = k + 1\n",
    "        else:\n",
    "            m = m + 1\n",
    "    print (f'Количество выпадания орлов {k} и {m} решек из {n} попыток')\n",
    "p =0.5\n",
    "q = (1-p)\n",
    "for n in range (70, 130, 15):\n",
    "    print()\n",
    "    for k in range (35, 60, 5): # формула вероятности Бернулли\n",
    "        P=(math.factorial(n)/(math.factorial(k)*math.factorial(n-k)))*(p**k)*(q**(n-k))*100\n",
    "        print (f'Вероятность выпадения {k} орлов при {n} попытках - {P:.5f} %')"
   ]
  },
  {
   "cell_type": "code",
   "execution_count": null,
   "id": "0795cb3f",
   "metadata": {},
   "outputs": [],
   "source": []
  }
 ],
 "metadata": {
  "kernelspec": {
   "display_name": "Python 3 (ipykernel)",
   "language": "python",
   "name": "python3"
  },
  "language_info": {
   "codemirror_mode": {
    "name": "ipython",
    "version": 3
   },
   "file_extension": ".py",
   "mimetype": "text/x-python",
   "name": "python",
   "nbconvert_exporter": "python",
   "pygments_lexer": "ipython3",
   "version": "3.9.12"
  }
 },
 "nbformat": 4,
 "nbformat_minor": 5
}
